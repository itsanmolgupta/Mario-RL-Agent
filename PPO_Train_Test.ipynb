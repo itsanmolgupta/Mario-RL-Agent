{
 "cells": [
  {
   "cell_type": "markdown",
   "id": "632d1e16-ff28-4dcb-ad32-fa2e92d2fafc",
   "metadata": {},
   "source": [
    "## Training and Testing"
   ]
  },
  {
   "cell_type": "markdown",
   "id": "8a007279-2d18-4fe3-8400-8c31467a9f49",
   "metadata": {},
   "source": [
    "### 1. Importing Dependencies"
   ]
  },
  {
   "cell_type": "code",
   "execution_count": 1,
   "id": "8af4a2d0-676b-4de7-bd32-3b3a8d3c6ddd",
   "metadata": {},
   "outputs": [],
   "source": [
    "import gym_super_mario_bros\n",
    "from nes_py.wrappers import JoypadSpace\n",
    "from gym_super_mario_bros.actions import SIMPLE_MOVEMENT\n",
    "from gym.wrappers import GrayScaleObservation, ResizeObservation\n",
    "from stable_baselines3.common.vec_env import VecFrameStack, DummyVecEnv\n",
    "from stable_baselines3 import PPO\n",
    "from stable_baselines3.common.callbacks import BaseCallback\n",
    "from stable_baselines3.common.monitor import Monitor\n",
    "import os"
   ]
  },
  {
   "cell_type": "markdown",
   "id": "894b6596-0495-4067-bc68-0b370963f80f",
   "metadata": {},
   "source": [
    "### 2. Setting up Environment for Training"
   ]
  },
  {
   "cell_type": "code",
   "execution_count": 2,
   "id": "74284b13-5763-45bb-95a2-8b5a1663786a",
   "metadata": {},
   "outputs": [],
   "source": [
    "# 1. Create the base environment\n",
    "env = gym_super_mario_bros.make('SuperMarioBros-v0')\n",
    "# 2. Simplify the controls \n",
    "env = JoypadSpace(env, SIMPLE_MOVEMENT)\n",
    "# 3. Grayscale\n",
    "env = GrayScaleObservation(env, keep_dim=True)\n",
    "# 4. Resize\n",
    "env = ResizeObservation(env, shape=84)\n",
    "# 5. For Tensorboard Log\n",
    "env = Monitor(env)\n",
    "# 6. Wrap inside the Dummy Environment\n",
    "env = DummyVecEnv([lambda: env]) \n",
    "# 7. Stack the frames\n",
    "env = VecFrameStack(env, 4, channels_order='last')"
   ]
  },
  {
   "cell_type": "markdown",
   "id": "40ab7c2f-6084-45b1-a40c-5eb0f9cba2ba",
   "metadata": {},
   "source": [
    "### 3. Training the Agent"
   ]
  },
  {
   "cell_type": "code",
   "execution_count": null,
   "id": "408ee6d1-ea21-40fe-8abf-4af1c518c835",
   "metadata": {},
   "outputs": [],
   "source": [
    "# Training and Logging Callback Function Class\n",
    "class TrainAndLoggingCallback(BaseCallback):\n",
    "\n",
    "    def __init__(self, check_freq, save_path, verbose=1):\n",
    "        super(TrainAndLoggingCallback, self).__init__(verbose)\n",
    "        self.check_freq = check_freq\n",
    "        self.save_path = save_path\n",
    "\n",
    "    def _init_callback(self):\n",
    "        if self.save_path is not None:\n",
    "            os.makedirs(self.save_path, exist_ok=True)\n",
    "\n",
    "    def _on_step(self):\n",
    "        if self.n_calls % self.check_freq == 0:\n",
    "            model_path = os.path.join(self.save_path, 'saved_model_{}'.format(self.n_calls))\n",
    "            self.model.save(model_path)\n",
    "\n",
    "        return True"
   ]
  },
  {
   "cell_type": "code",
   "execution_count": 5,
   "id": "e491cbb5-3edf-434b-b960-7ab68a1b1030",
   "metadata": {},
   "outputs": [],
   "source": [
    "CHECKPOINT_DIR = './train/'\n",
    "LOG_DIR = './logs/'"
   ]
  },
  {
   "cell_type": "code",
   "execution_count": null,
   "id": "95a5d25c-8c99-42a2-a886-826f400e9934",
   "metadata": {},
   "outputs": [],
   "source": [
    "# Setup model saving callback\n",
    "callback = TrainAndLoggingCallback(check_freq=10000, save_path=CHECKPOINT_DIR)"
   ]
  },
  {
   "cell_type": "code",
   "execution_count": null,
   "id": "c4648fd8-ff59-4571-9614-ca5729b4eceb",
   "metadata": {},
   "outputs": [],
   "source": [
    "# Create agent model\n",
    "model = PPO('CnnPolicy', env, verbose=1, tensorboard_log=LOG_DIR, learning_rate=0.00003, seed=4)"
   ]
  },
  {
   "cell_type": "code",
   "execution_count": null,
   "id": "27817d20-de9c-4a7c-9ab4-1703e864a051",
   "metadata": {},
   "outputs": [],
   "source": [
    "# Start model training\n",
    "model.learn(total_timesteps=100000, callback=callback)"
   ]
  },
  {
   "cell_type": "markdown",
   "id": "c5a06e09-3888-4e79-9e8b-b350e1cf1143",
   "metadata": {},
   "source": [
    "### 4. Testing the Model"
   ]
  },
  {
   "cell_type": "code",
   "execution_count": 4,
   "id": "1dfc2cef-d9b5-49e7-bf65-a8911cee8bf2",
   "metadata": {},
   "outputs": [
    {
     "name": "stderr",
     "output_type": "stream",
     "text": [
      "C:\\Users\\ANMOL\\miniconda3\\Lib\\site-packages\\stable_baselines3\\common\\save_util.py:166: UserWarning: Could not deserialize object lr_schedule. Consider using `custom_objects` argument to replace this object.\n",
      "  warnings.warn(\n",
      "C:\\Users\\ANMOL\\miniconda3\\Lib\\site-packages\\stable_baselines3\\common\\save_util.py:166: UserWarning: Could not deserialize object clip_range. Consider using `custom_objects` argument to replace this object.\n",
      "  warnings.warn(\n"
     ]
    },
    {
     "name": "stdout",
     "output_type": "stream",
     "text": [
      "Wrapping the env in a VecTransposeImage.\n"
     ]
    }
   ],
   "source": [
    "# Load model\n",
    "model = PPO.load('./model_100000', env=env, clip_range=0.2)"
   ]
  },
  {
   "cell_type": "code",
   "execution_count": 5,
   "id": "1e3566a0-dec0-4a88-a671-171d25800134",
   "metadata": {},
   "outputs": [
    {
     "name": "stderr",
     "output_type": "stream",
     "text": [
      "C:\\Users\\ANMOL\\miniconda3\\Lib\\site-packages\\gym_super_mario_bros\\smb_env.py:148: RuntimeWarning: overflow encountered in scalar subtract\n",
      "  return (self.ram[0x86] - self.ram[0x071c]) % 256\n"
     ]
    },
    {
     "name": "stdout",
     "output_type": "stream",
     "text": [
      "Episode:1 Score:[1998.]\n",
      "Episode:2 Score:[1771.]\n",
      "Episode:3 Score:[1850.]\n",
      "Episode:4 Score:[1923.]\n",
      "Episode:5 Score:[1590.]\n",
      "Episode:6 Score:[715.]\n",
      "Episode:7 Score:[1063.]\n",
      "Episode:8 Score:[713.]\n",
      "Episode:9 Score:[1492.]\n",
      "Episode:10 Score:[1870.]\n"
     ]
    }
   ],
   "source": [
    "#Test Model\n",
    "episodes = 10\n",
    "for episode in range(1, episodes+1):\n",
    "    state = env.reset()\n",
    "    done = False\n",
    "    score = 0 \n",
    "    \n",
    "    while not done:\n",
    "        env.render()\n",
    "        action, _ = model.predict(state)\n",
    "        state, reward, done, info = env.step(action)\n",
    "        score+=reward\n",
    "    print('Episode:{} Score:{}'.format(episode, score))\n",
    "env.close()"
   ]
  },
  {
   "cell_type": "markdown",
   "id": "9a94d024-dc61-4981-86e7-3c9d4b70251d",
   "metadata": {},
   "source": [
    "### 5. Opening Tensorboard"
   ]
  },
  {
   "cell_type": "code",
   "execution_count": null,
   "id": "d4e32e28-4a11-434f-b6f5-d0965d8b9732",
   "metadata": {},
   "outputs": [],
   "source": [
    "LOG_NAME = 'PPO_2'\n",
    "TB_LOG = os.path.join(LOG_DIR, LOG_NAME)\n",
    "\n",
    "!tensorboard --logdir={TB_LOG}"
   ]
  }
 ],
 "metadata": {
  "kernelspec": {
   "display_name": "Python 3 (ipykernel)",
   "language": "python",
   "name": "python3"
  },
  "language_info": {
   "codemirror_mode": {
    "name": "ipython",
    "version": 3
   },
   "file_extension": ".py",
   "mimetype": "text/x-python",
   "name": "python",
   "nbconvert_exporter": "python",
   "pygments_lexer": "ipython3",
   "version": "3.11.5"
  }
 },
 "nbformat": 4,
 "nbformat_minor": 5
}
