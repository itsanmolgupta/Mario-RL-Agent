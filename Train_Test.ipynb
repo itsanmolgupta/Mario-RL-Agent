{
 "cells": [
  {
   "cell_type": "markdown",
   "id": "632d1e16-ff28-4dcb-ad32-fa2e92d2fafc",
   "metadata": {},
   "source": [
    "## Training and Testing"
   ]
  },
  {
   "cell_type": "markdown",
   "id": "8a007279-2d18-4fe3-8400-8c31467a9f49",
   "metadata": {},
   "source": [
    "### 1. Importing Dependencies"
   ]
  },
  {
   "cell_type": "code",
   "execution_count": null,
   "id": "8af4a2d0-676b-4de7-bd32-3b3a8d3c6ddd",
   "metadata": {},
   "outputs": [],
   "source": [
    "import gym\n",
    "import matplotlib.pyplot as plt\n",
    "import os\n",
    "import gym_super_mario_bros\n",
    "from nes_py.wrappers import JoypadSpace\n",
    "from gym_super_mario_bros.actions import RIGHT_ONLY, SIMPLE_MOVEMENT, COMPLEX_MOVEMENT\n",
    "from gym.wrappers import GrayScaleObservation, ResizeObservation\n",
    "from stable_baselines3.common.vec_env import VecFrameStack, DummyVecEnv\n",
    "from stable_baselines3 import PPO\n",
    "from stable_baselines3.common.callbacks import BaseCallback\n",
    "from stable_baselines3.common.torch_layers import BaseFeaturesExtractor\n",
    "from stable_baselines3.common.monitor import Monitor"
   ]
  },
  {
   "cell_type": "markdown",
   "id": "894b6596-0495-4067-bc68-0b370963f80f",
   "metadata": {},
   "source": [
    "### 2. Setting up Environment for Training"
   ]
  },
  {
   "cell_type": "code",
   "execution_count": null,
   "id": "8e6be40c-8556-4a96-8eb5-a638cf5dba6b",
   "metadata": {},
   "outputs": [],
   "source": [
    "class SkipFrame(gym.Wrapper):\n",
    "    def __init__(self, env, skip):\n",
    "        super().__init__(env)\n",
    "        self._skip = skip\n",
    "\n",
    "    def step(self, action):\n",
    "        total_reward = 0.0\n",
    "        done = False\n",
    "        for i in range(self._skip):\n",
    "            obs, reward, done, info = self.env.step(action)\n",
    "            total_reward += reward\n",
    "            if done:\n",
    "                break\n",
    "        return obs, total_reward, done, info"
   ]
  },
  {
   "cell_type": "code",
   "execution_count": null,
   "id": "4278a1c1-1f40-498a-a2b6-206cc91d2378",
   "metadata": {},
   "outputs": [],
   "source": [
    "class CustomRewardAndDoneEnv(gym.Wrapper):\n",
    "    def __init__(self, env=None):\n",
    "        super(CustomRewardAndDoneEnv, self).__init__(env)\n",
    "        self.current_score = 0\n",
    "        self.current_x = 0\n",
    "        self.current_x_count = 0\n",
    "        self.max_x = 0\n",
    "    def reset(self, **kwargs):\n",
    "        self.current_score = 0\n",
    "        self.current_x = 0\n",
    "        self.current_x_count = 0\n",
    "        self.max_x = 0\n",
    "        return self.env.reset(**kwargs)\n",
    "    def step(self, action):\n",
    "        state, reward, done, info = self.env.step(action)\n",
    "        reward += max(0, info['x_pos'] - self.max_x)\n",
    "        if (info['x_pos'] - self.current_x) == 0:\n",
    "            self.current_x_count += 1\n",
    "        else:\n",
    "            self.current_x_count = 0\n",
    "        if info[\"flag_get\"]:\n",
    "            reward += 500\n",
    "            done = True\n",
    "            print(\"GOAL\")\n",
    "        if info[\"life\"] < 2:\n",
    "            reward -= 500\n",
    "            done = True\n",
    "        self.current_score = info[\"score\"]\n",
    "        self.max_x = max(self.max_x, self.current_x)\n",
    "        self.current_x = info[\"x_pos\"]\n",
    "        return state, reward / 10., done, info"
   ]
  },
  {
   "cell_type": "code",
   "execution_count": null,
   "id": "69ce67ae-5fb8-4666-ab8f-ef8f18b1dbe2",
   "metadata": {},
   "outputs": [],
   "source": [
    "CUSTOM_MOVEMENT = [['left', 'A'], ['right', 'B'], ['right', 'A', 'B']]"
   ]
  },
  {
   "cell_type": "code",
   "execution_count": null,
   "id": "74284b13-5763-45bb-95a2-8b5a1663786a",
   "metadata": {},
   "outputs": [],
   "source": [
    "# Choose Movement Type\n",
    "MOVEMENT = SIMPLE_MOVEMENT\n",
    "# 1. Create the base environment\n",
    "env = gym_super_mario_bros.make('SuperMarioBros-1-1-v0')\n",
    "# 2. Simplify the controls\n",
    "env = JoypadSpace(env, MOVEMENT)\n",
    "# 3. Custom Reward\n",
    "# env = CustomRewardAndDoneEnv(env)\n",
    "# 4. Grayscale\n",
    "env = GrayScaleObservation(env, keep_dim=True)\n",
    "# 5. Resize\n",
    "#env = ResizeObservation(env, shape=84)\n",
    "# 6. Frame Skip\n",
    "env = SkipFrame(env, skip=4)\n",
    "# 7. For Tensorboard Log\n",
    "env = Monitor(env)\n",
    "# 8. Wrap inside the Dummy Environment\n",
    "env = DummyVecEnv([lambda: env])\n",
    "# 9. Stack the frames\n",
    "env = VecFrameStack(env, 4, channels_order='last')"
   ]
  },
  {
   "cell_type": "markdown",
   "id": "40ab7c2f-6084-45b1-a40c-5eb0f9cba2ba",
   "metadata": {},
   "source": [
    "### 3. Training the Agent"
   ]
  },
  {
   "cell_type": "code",
   "execution_count": null,
   "id": "408ee6d1-ea21-40fe-8abf-4af1c518c835",
   "metadata": {},
   "outputs": [],
   "source": [
    "# Training and Logging Callback Function Class\n",
    "class TrainAndLoggingCallback(BaseCallback):\n",
    "\n",
    "    def __init__(self, check_freq, save_path, verbose=1):\n",
    "        super(TrainAndLoggingCallback, self).__init__(verbose)\n",
    "        self.check_freq = check_freq\n",
    "        self.save_path = save_path\n",
    "\n",
    "    def _init_callback(self):\n",
    "        if self.save_path is not None:\n",
    "            os.makedirs(self.save_path, exist_ok=True)\n",
    "\n",
    "    def _on_step(self):\n",
    "        if self.n_calls % self.check_freq == 0:\n",
    "            model_path = os.path.join(self.save_path, 'model_{}'.format(self.n_calls))\n",
    "            self.model.save(model_path)\n",
    "\n",
    "        return True"
   ]
  },
  {
   "cell_type": "code",
   "execution_count": null,
   "id": "e491cbb5-3edf-434b-b960-7ab68a1b1030",
   "metadata": {},
   "outputs": [],
   "source": [
    "# Defining the path for saving the models and log\n",
    "CHECKPOINT_DIR = './train/'\n",
    "LOG_DIR = './train/logs/'"
   ]
  },
  {
   "cell_type": "code",
   "execution_count": null,
   "id": "95a5d25c-8c99-42a2-a886-826f400e9934",
   "metadata": {},
   "outputs": [],
   "source": [
    "# Setup model saving callback\n",
    "callback = TrainAndLoggingCallback(check_freq=100000, save_path=CHECKPOINT_DIR)"
   ]
  },
  {
   "cell_type": "code",
   "execution_count": null,
   "id": "c4648fd8-ff59-4571-9614-ca5729b4eceb",
   "metadata": {},
   "outputs": [],
   "source": [
    "# Create agent model\n",
    "model = PPO('CnnPolicy',\n",
    "            env,\n",
    "            verbose=1,\n",
    "            tensorboard_log=LOG_DIR,\n",
    "            learning_rate=0.0001,\n",
    "            n_steps=512,\n",
    "            ent_coef=0.01,\n",
    "            gae_lambda=1.0,\n",
    "            gamma=0.9,\n",
    "            seed=11)"
   ]
  },
  {
   "cell_type": "code",
   "execution_count": null,
   "id": "27817d20-de9c-4a7c-9ab4-1703e864a051",
   "metadata": {},
   "outputs": [],
   "source": [
    "# Start model training\n",
    "model.learn(total_timesteps=1000000,\n",
    "            callback=callback)"
   ]
  },
  {
   "cell_type": "code",
   "execution_count": null,
   "id": "beb52224-65ee-4874-868b-b75a36060e4c",
   "metadata": {},
   "outputs": [],
   "source": [
    "del model"
   ]
  },
  {
   "cell_type": "markdown",
   "id": "c5a06e09-3888-4e79-9e8b-b350e1cf1143",
   "metadata": {},
   "source": [
    "### 4. Testing the Model"
   ]
  },
  {
   "cell_type": "code",
   "execution_count": null,
   "id": "199e997b-eda8-4ae8-94f7-ba6aa1a6d468",
   "metadata": {},
   "outputs": [],
   "source": [
    "# 1. Create the base environment\n",
    "env = gym_super_mario_bros.make('SuperMarioBros-v0')\n",
    "# 2. Simplify the controls \n",
    "env = JoypadSpace(env, RIGHT_ONLY)\n",
    "# 3. Custom Reward\n",
    "# env = CustomRewardAndDoneEnv(env)\n",
    "# 4. Grayscale\n",
    "env = GrayScaleObservation(env, keep_dim=True)\n",
    "# 5. Resize\n",
    "env = ResizeObservation(env, shape=84)\n",
    "# 6. Wrap inside the Dummy Environment\n",
    "env = DummyVecEnv([lambda: env])\n",
    "# 7. Stack the frames\n",
    "env = VecFrameStack(env, 4, channels_order='last')"
   ]
  },
  {
   "cell_type": "code",
   "execution_count": null,
   "id": "1dfc2cef-d9b5-49e7-bf65-a8911cee8bf2",
   "metadata": {},
   "outputs": [],
   "source": [
    "# Load model\n",
    "model = PPO.load('./train/model_name', env=env, clip_range=0.2)"
   ]
  },
  {
   "cell_type": "code",
   "execution_count": null,
   "id": "1e3566a0-dec0-4a88-a671-171d25800134",
   "metadata": {},
   "outputs": [],
   "source": [
    "#Test Model\n",
    "episodes = 15\n",
    "for episode in range(1, episodes+1):\n",
    "    state = env.reset()\n",
    "    done = False\n",
    "    score = 0 \n",
    "    \n",
    "    while not done:\n",
    "        env.render()\n",
    "        action, _ = model.predict(state)\n",
    "        state, reward, done, info = env.step(action)\n",
    "        score+=reward\n",
    "    print('Episode:{} Score:{}'.format(episode, score))\n",
    "env.close()"
   ]
  },
  {
   "cell_type": "markdown",
   "id": "9a94d024-dc61-4981-86e7-3c9d4b70251d",
   "metadata": {},
   "source": [
    "### 5. Opening Tensorboard"
   ]
  },
  {
   "cell_type": "code",
   "execution_count": null,
   "id": "d4e32e28-4a11-434f-b6f5-d0965d8b9732",
   "metadata": {},
   "outputs": [],
   "source": [
    "LOG_NAME = 'log_name'\n",
    "TB_LOG = os.path.join(LOG_DIR, LOG_NAME)\n",
    "\n",
    "!tensorboard --logdir={TB_LOG}"
   ]
  }
 ],
 "metadata": {
  "kernelspec": {
   "display_name": "Python 3 (ipykernel)",
   "language": "python",
   "name": "python3"
  },
  "language_info": {
   "codemirror_mode": {
    "name": "ipython",
    "version": 3
   },
   "file_extension": ".py",
   "mimetype": "text/x-python",
   "name": "python",
   "nbconvert_exporter": "python",
   "pygments_lexer": "ipython3",
   "version": "3.11.5"
  }
 },
 "nbformat": 4,
 "nbformat_minor": 5
}
